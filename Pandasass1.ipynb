{
 "cells": [
  {
   "cell_type": "code",
   "execution_count": 25,
   "id": "eb724343-e845-4ed9-b0e8-7b94c97e45ba",
   "metadata": {},
   "outputs": [],
   "source": [
    "import pandas as pd"
   ]
  },
  {
   "cell_type": "markdown",
   "id": "f0833cf0-9877-430e-a60b-189d7f1f6c81",
   "metadata": {},
   "source": [
    "### Q1"
   ]
  },
  {
   "cell_type": "code",
   "execution_count": 26,
   "id": "98278a09-769d-4b64-ac76-a5ed2a4f5a84",
   "metadata": {},
   "outputs": [],
   "source": [
    "l=[4,8,15,16,23,42]"
   ]
  },
  {
   "cell_type": "code",
   "execution_count": 27,
   "id": "32705214-6048-4682-a85a-7c6326565d84",
   "metadata": {},
   "outputs": [
    {
     "data": {
      "text/plain": [
       "[4, 8, 15, 16, 23, 42]"
      ]
     },
     "execution_count": 27,
     "metadata": {},
     "output_type": "execute_result"
    }
   ],
   "source": [
    "l"
   ]
  },
  {
   "cell_type": "code",
   "execution_count": 28,
   "id": "666978ca-8e53-4243-9c90-c3e00a63a523",
   "metadata": {},
   "outputs": [],
   "source": [
    "s=pd.Series(l)"
   ]
  },
  {
   "cell_type": "code",
   "execution_count": 29,
   "id": "74316178-fb05-43f9-b73e-78a014a4e87b",
   "metadata": {},
   "outputs": [
    {
     "name": "stdout",
     "output_type": "stream",
     "text": [
      "0     4\n",
      "1     8\n",
      "2    15\n",
      "3    16\n",
      "4    23\n",
      "5    42\n",
      "dtype: int64\n"
     ]
    }
   ],
   "source": [
    "print(s)"
   ]
  },
  {
   "cell_type": "markdown",
   "id": "3f088372-1fec-4d08-80fa-76040b35b70e",
   "metadata": {},
   "source": [
    "### Q2"
   ]
  },
  {
   "cell_type": "code",
   "execution_count": 30,
   "id": "8f957438-5808-463e-b0ed-596fba05d327",
   "metadata": {},
   "outputs": [],
   "source": [
    "list=[1,2,3,4,5,6,7,5,9,2]"
   ]
  },
  {
   "cell_type": "code",
   "execution_count": 31,
   "id": "96ffb138-c991-4573-95c9-cdb12bd63b16",
   "metadata": {},
   "outputs": [
    {
     "name": "stdout",
     "output_type": "stream",
     "text": [
      "0    1\n",
      "1    2\n",
      "2    3\n",
      "3    4\n",
      "4    5\n",
      "5    6\n",
      "6    7\n",
      "7    5\n",
      "8    9\n",
      "9    2\n",
      "dtype: int64\n"
     ]
    }
   ],
   "source": [
    "print(pd.Series(list))"
   ]
  },
  {
   "cell_type": "markdown",
   "id": "2ef94e14-620f-4c13-8dc7-3316d1690788",
   "metadata": {},
   "source": [
    "### Q3"
   ]
  },
  {
   "cell_type": "code",
   "execution_count": 32,
   "id": "38be09eb-0898-4882-98c7-ab45edbb4850",
   "metadata": {},
   "outputs": [],
   "source": [
    "# Creating a dictionary of key value pair"
   ]
  },
  {
   "cell_type": "code",
   "execution_count": 36,
   "id": "e4512ed7-60e5-4f5c-8ac1-2fa5dff09da0",
   "metadata": {},
   "outputs": [],
   "source": [
    "d={\n",
    "    \"Name\":['Alice','Bob','Claire'],\n",
    "    \"Age\":[25,30,27],\n",
    "     \"Gender\":['Female','Male','Female']\n",
    "  }"
   ]
  },
  {
   "cell_type": "code",
   "execution_count": 39,
   "id": "e2e45aa4-8c77-4164-a96e-aa6e8abefb50",
   "metadata": {},
   "outputs": [],
   "source": [
    "df=pd.DataFrame(d)"
   ]
  },
  {
   "cell_type": "code",
   "execution_count": 40,
   "id": "6d26c706-8d4e-4d0b-87ab-51a096b82ee6",
   "metadata": {},
   "outputs": [
    {
     "name": "stdout",
     "output_type": "stream",
     "text": [
      "     Name  Age  Gender\n",
      "0   Alice   25  Female\n",
      "1     Bob   30    Male\n",
      "2  Claire   27  Female\n"
     ]
    }
   ],
   "source": [
    "print(df)"
   ]
  },
  {
   "cell_type": "markdown",
   "id": "1e279265-d0fa-4d76-a3d7-9ef0ffb90acc",
   "metadata": {},
   "source": [
    "### Q4"
   ]
  },
  {
   "cell_type": "code",
   "execution_count": 41,
   "id": "907ab071-f8bd-44d9-b87f-231b058a454e",
   "metadata": {},
   "outputs": [],
   "source": [
    "## Both dataframe and series in pandas are datatypes of pandas . Dataframe stores the data in structured tabular \n",
    "## format while series stores the data in series format. EXAMPLE-"
   ]
  },
  {
   "cell_type": "code",
   "execution_count": 42,
   "id": "5ae67bc1-cfe2-40f1-9fd6-07d987fbbd43",
   "metadata": {},
   "outputs": [
    {
     "data": {
      "text/html": [
       "<div>\n",
       "<style scoped>\n",
       "    .dataframe tbody tr th:only-of-type {\n",
       "        vertical-align: middle;\n",
       "    }\n",
       "\n",
       "    .dataframe tbody tr th {\n",
       "        vertical-align: top;\n",
       "    }\n",
       "\n",
       "    .dataframe thead th {\n",
       "        text-align: right;\n",
       "    }\n",
       "</style>\n",
       "<table border=\"1\" class=\"dataframe\">\n",
       "  <thead>\n",
       "    <tr style=\"text-align: right;\">\n",
       "      <th></th>\n",
       "      <th>0</th>\n",
       "    </tr>\n",
       "  </thead>\n",
       "  <tbody>\n",
       "    <tr>\n",
       "      <th>0</th>\n",
       "      <td>1</td>\n",
       "    </tr>\n",
       "    <tr>\n",
       "      <th>1</th>\n",
       "      <td>2</td>\n",
       "    </tr>\n",
       "    <tr>\n",
       "      <th>2</th>\n",
       "      <td>3</td>\n",
       "    </tr>\n",
       "    <tr>\n",
       "      <th>3</th>\n",
       "      <td>4</td>\n",
       "    </tr>\n",
       "    <tr>\n",
       "      <th>4</th>\n",
       "      <td>5</td>\n",
       "    </tr>\n",
       "    <tr>\n",
       "      <th>5</th>\n",
       "      <td>6</td>\n",
       "    </tr>\n",
       "    <tr>\n",
       "      <th>6</th>\n",
       "      <td>7</td>\n",
       "    </tr>\n",
       "    <tr>\n",
       "      <th>7</th>\n",
       "      <td>5</td>\n",
       "    </tr>\n",
       "    <tr>\n",
       "      <th>8</th>\n",
       "      <td>9</td>\n",
       "    </tr>\n",
       "    <tr>\n",
       "      <th>9</th>\n",
       "      <td>2</td>\n",
       "    </tr>\n",
       "  </tbody>\n",
       "</table>\n",
       "</div>"
      ],
      "text/plain": [
       "   0\n",
       "0  1\n",
       "1  2\n",
       "2  3\n",
       "3  4\n",
       "4  5\n",
       "5  6\n",
       "6  7\n",
       "7  5\n",
       "8  9\n",
       "9  2"
      ]
     },
     "execution_count": 42,
     "metadata": {},
     "output_type": "execute_result"
    }
   ],
   "source": [
    "pd.DataFrame(list)"
   ]
  },
  {
   "cell_type": "code",
   "execution_count": 44,
   "id": "c18ac6e9-2fea-4054-bcba-bb34d69ee14c",
   "metadata": {},
   "outputs": [
    {
     "data": {
      "text/plain": [
       "0    1\n",
       "1    2\n",
       "2    3\n",
       "3    4\n",
       "4    5\n",
       "5    6\n",
       "6    7\n",
       "7    5\n",
       "8    9\n",
       "9    2\n",
       "dtype: int64"
      ]
     },
     "execution_count": 44,
     "metadata": {},
     "output_type": "execute_result"
    }
   ],
   "source": [
    "pd.Series(list)"
   ]
  },
  {
   "cell_type": "markdown",
   "id": "bb33df77-24b6-461d-8123-827e83a3194e",
   "metadata": {},
   "source": [
    "### Q5"
   ]
  },
  {
   "cell_type": "code",
   "execution_count": 45,
   "id": "38a3d0f9-653c-4fec-99a0-fd3aa0993ec3",
   "metadata": {},
   "outputs": [],
   "source": [
    "## If df is a dataframe\n",
    "## Some common functions- df.head(), df.tail(), df.iloc(), df.loc(), df.drop(), df.dropna(), etc.\n",
    "## While performing Exploratory Data Analysis, we will be using them ."
   ]
  },
  {
   "cell_type": "markdown",
   "id": "98a747d6-7c7f-49ad-b884-f5849695eb3c",
   "metadata": {},
   "source": [
    "### Q6"
   ]
  },
  {
   "cell_type": "code",
   "execution_count": 46,
   "id": "cb719879-56bb-4a75-a4b1-1397905a76b4",
   "metadata": {},
   "outputs": [],
   "source": [
    "## All three are value mutable  except series is size immutable."
   ]
  },
  {
   "cell_type": "markdown",
   "id": "bbc05de3-f789-4ddf-b2c0-3333c2be28ac",
   "metadata": {},
   "source": [
    "### Q7"
   ]
  },
  {
   "cell_type": "code",
   "execution_count": 50,
   "id": "5192c13c-42af-4cbf-8464-8bed379b335e",
   "metadata": {},
   "outputs": [],
   "source": [
    "l1=[1,2,3]\n",
    "l2=[4,5,6]\n",
    "l3=[7,8,9]"
   ]
  },
  {
   "cell_type": "code",
   "execution_count": 51,
   "id": "7575ecdb-179f-4795-96cd-d2f7cb8bb2db",
   "metadata": {},
   "outputs": [],
   "source": [
    "s1=pd.Series(l1)\n",
    "s2=pd.Series(l2)\n",
    "s3=pd.Series(l3)"
   ]
  },
  {
   "cell_type": "code",
   "execution_count": 54,
   "id": "29226a56-c8ef-4d14-b418-b22d7d039ddd",
   "metadata": {},
   "outputs": [
    {
     "data": {
      "text/html": [
       "<div>\n",
       "<style scoped>\n",
       "    .dataframe tbody tr th:only-of-type {\n",
       "        vertical-align: middle;\n",
       "    }\n",
       "\n",
       "    .dataframe tbody tr th {\n",
       "        vertical-align: top;\n",
       "    }\n",
       "\n",
       "    .dataframe thead th {\n",
       "        text-align: right;\n",
       "    }\n",
       "</style>\n",
       "<table border=\"1\" class=\"dataframe\">\n",
       "  <thead>\n",
       "    <tr style=\"text-align: right;\">\n",
       "      <th></th>\n",
       "      <th>0</th>\n",
       "      <th>1</th>\n",
       "      <th>2</th>\n",
       "    </tr>\n",
       "  </thead>\n",
       "  <tbody>\n",
       "    <tr>\n",
       "      <th>0</th>\n",
       "      <td>1</td>\n",
       "      <td>2</td>\n",
       "      <td>3</td>\n",
       "    </tr>\n",
       "    <tr>\n",
       "      <th>1</th>\n",
       "      <td>4</td>\n",
       "      <td>5</td>\n",
       "      <td>6</td>\n",
       "    </tr>\n",
       "    <tr>\n",
       "      <th>2</th>\n",
       "      <td>7</td>\n",
       "      <td>8</td>\n",
       "      <td>9</td>\n",
       "    </tr>\n",
       "  </tbody>\n",
       "</table>\n",
       "</div>"
      ],
      "text/plain": [
       "   0  1  2\n",
       "0  1  2  3\n",
       "1  4  5  6\n",
       "2  7  8  9"
      ]
     },
     "execution_count": 54,
     "metadata": {},
     "output_type": "execute_result"
    }
   ],
   "source": [
    "pd.DataFrame([s1,s2,s3])"
   ]
  },
  {
   "cell_type": "code",
   "execution_count": null,
   "id": "bcca49e8-3d22-4374-ac49-f3d6ff077b86",
   "metadata": {},
   "outputs": [],
   "source": []
  }
 ],
 "metadata": {
  "kernelspec": {
   "display_name": "Python 3 (ipykernel)",
   "language": "python",
   "name": "python3"
  },
  "language_info": {
   "codemirror_mode": {
    "name": "ipython",
    "version": 3
   },
   "file_extension": ".py",
   "mimetype": "text/x-python",
   "name": "python",
   "nbconvert_exporter": "python",
   "pygments_lexer": "ipython3",
   "version": "3.10.8"
  }
 },
 "nbformat": 4,
 "nbformat_minor": 5
}
